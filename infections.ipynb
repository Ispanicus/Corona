{
 "cells": [
  {
   "cell_type": "code",
   "execution_count": 2,
   "metadata": {},
   "outputs": [],
   "source": [
    "import pandas as pd\n",
    "\n",
    "data = pd.read_csv('Infections.csv')\n",
    "\n",
    "ar = data.values\n",
    "\n",
    "dates = ['01-22-2020','01-23-2020','01-24-2020','01-25-2020','01-26-2020','01-27-2020','01-28-2020','01-29-2020', '01-30-2020', '01-31-2020', '02-01-2020','02-02-2020','02-03-2020','02-04-2020','02-05-2020','02-06-2020','02-07-2020','02-08-2020','02-09-2020','02-10-2020','02-11-2020','02-12-2020','02-13-2020','02-14-2020','02-15-2020','02-16-2020','02-17-2020','02-18-2020','02-19-2020','02-20-2020','02-21-2020','02-22-2020','02-23-2020','02-24-2020','02-25-2020','02-26-2020','02-27-2020','02-28-2020','02-29-2020','03-01-2020','03-02-2020','03-03-2020','03-04-2020']\n",
    "\n",
    "with open(\"cleaned_infections.tsv\", \"w\") as file:\n",
    "    file.write('Province/State\\tCountry/Region\\tLat\\tLong\\tInfections\\tDate\\n')\n",
    "    for row in data.values:\n",
    "        for idx, item in enumerate(row[4:]):\n",
    "            if item:\n",
    "                file.write(f'{row[0]}\\t{row[1]}\\t{row[2]}\\t{row[3]}\\t{item}\\t{dates[idx]}\\n')"
   ]
  }
 ],
 "metadata": {
  "kernelspec": {
   "display_name": "Python 3",
   "language": "python",
   "name": "python3"
  },
  "language_info": {
   "codemirror_mode": {
    "name": "ipython",
    "version": 3
   },
   "file_extension": ".py",
   "mimetype": "text/x-python",
   "name": "python",
   "nbconvert_exporter": "python",
   "pygments_lexer": "ipython3",
   "version": "3.7.6"
  }
 },
 "nbformat": 4,
 "nbformat_minor": 4
}
