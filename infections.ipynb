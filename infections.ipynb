{
 "cells": [
  {
   "cell_type": "code",
   "execution_count": 72,
   "metadata": {},
   "outputs": [],
   "source": [
    "import pandas as pd\n",
    "\n",
    "data = pd.read_csv('Infections.csv')\n",
    "ar = data.values\n",
    "codes = pd.read_csv('wikipedia-iso-country-codes.csv')\n",
    "val = codes.values\n",
    "cdic = {}\n",
    "\n",
    "for row in val:\n",
    "    cdic[row[0]] = row[2]\n",
    "\n",
    "dates2 = ['1-22-2020','01-23-2020','01-24-2020','01-25-2020','01-26-2020','01-27-2020','01-28-2020','01-29-2020', '01-30-2020', '01-31-2020', '02-01-2020','02-02-2020','02-03-2020','02-04-2020','02-05-2020','02-06-2020','02-07-2020','02-08-2020','02-09-2020','02-10-2020','02-11-2020','02-12-2020','02-13-2020','02-14-2020','02-15-2020','02-16-2020','02-17-2020','02-18-2020','02-19-2020','02-20-2020','02-21-2020','02-22-2020','02-23-2020','02-24-2020','02-25-2020','02-26-2020','02-27-2020','02-28-2020','02-29-2020','03-01-2020','03-02-2020','03-03-2020','03-04-2020','03-05-2020','03-06-2020','03-07-2020','03-08-2020','03-09-2020','03-10-2020','03-11-2020','03-12-2020','03-13-2020','03-14-2020','03-15-2020','03-16-2020']\n",
    "dates = ['01/22/2020','01/23/2020','01/24/2020','01/25/2020','01/26/2020','01/27/2020','01/28/2020','01/29/2020', '01/30/2020', '01/31/2020', '02/01/2020','02/02/2020','02/03/2020','02/04/2020','02/05/2020','02/06/2020','02/07/2020','02/08/2020','02/09/2020','02/10/2020','02/11/2020','02/12/2020','02/13/2020','02/14/2020','02/15/2020','02/16/2020','02/17/2020','02/18/2020','02/19/2020','02/20/2020','02/21/2020','02/22/2020','02/23/2020','02/24/2020','02/25/2020','02/26/2020','02/27/2020','02/28/2020','02/29/2020','03/01/2020','03/02/2020','03/03/2020','03/04/2020','03/05/2020','03/06/2020','03/07/2020','03/08/2020','03/09/2020','03/10/2020','03/11/2020','03/12/2020','03/13/2020','03/14/2020','03/15/2020','03/16/2020']\n",
    "\n"
   ]
  },
  {
   "cell_type": "code",
   "execution_count": null,
   "metadata": {},
   "outputs": [],
   "source": [
    "with open(\"17-3.tsv\", \"w\") as file:\n",
    "    file.write('Province/State\\tCountry/Region\\tCode\\tLat\\tLong\\tInfections\\tDate\\n')\n",
    "    for row in ar:\n",
    "        for idx, item in enumerate(row[4:59]):\n",
    "            if item:\n",
    "                if type(row[0]) == str:\n",
    "                    file.write(f'{row[0]}\\t{row[1]}\\t{cdic[row[1]]}\\t{row[2]}\\t{row[3]}\\t{item}\\t{dates[idx]}\\n')\n",
    "                else:\n",
    "                    file.write(f'\\t{row[1]}\\t{cdic[row[1]]}\\t{row[2]}\\t{row[3]}\\t{item}\\t{dates[idx]}\\n')"
   ]
  },
  {
   "cell_type": "code",
   "execution_count": 63,
   "metadata": {},
   "outputs": [],
   "source": [
    "with open(\"hailmary.tsv\", \"w\") as file:\n",
    "    file.write('Lat\\tLong\\tInfections\\tDate\\Category\\tn')\n",
    "    for row in ar:\n",
    "        for idx, item in enumerate(row[4:59]):\n",
    "            if item:\n",
    "                if item < 50:\n",
    "                    file.write(f'{row[2]}\\t{row[3]}\\t{item}\\t{dates[idx]}\\n')"
   ]
  },
  {
   "cell_type": "code",
   "execution_count": 73,
   "metadata": {},
   "outputs": [
    {
     "data": {
      "text/plain": [
       "0      2\n",
       "1      2\n",
       "2      0\n",
       "3      0\n",
       "4      0\n",
       "      ..\n",
       "458    0\n",
       "459    0\n",
       "460    0\n",
       "461    0\n",
       "462    0\n",
       "Name: 1-22-2020, Length: 463, dtype: int64"
      ]
     },
     "execution_count": 73,
     "metadata": {},
     "output_type": "execute_result"
    }
   ],
   "source": [
    "data[dates2[0]]"
   ]
  }
 ],
 "metadata": {
  "kernelspec": {
   "display_name": "Python 3",
   "language": "python",
   "name": "python3"
  },
  "language_info": {
   "codemirror_mode": {
    "name": "ipython",
    "version": 3
   },
   "file_extension": ".py",
   "mimetype": "text/x-python",
   "name": "python",
   "nbconvert_exporter": "python",
   "pygments_lexer": "ipython3",
   "version": "3.7.6"
  }
 },
 "nbformat": 4,
 "nbformat_minor": 4
}
